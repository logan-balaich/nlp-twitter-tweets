{
 "cells": [
  {
   "cell_type": "markdown",
   "metadata": {},
   "source": [
    "# NLP Twitter Tweets about General Conference"
   ]
  },
  {
   "cell_type": "markdown",
   "metadata": {},
   "source": [
    "#### Logan Balaich "
   ]
  },
  {
   "cell_type": "markdown",
   "metadata": {},
   "source": [
    "## Data Gathering: Part I, General Conference Addresses"
   ]
  },
  {
   "cell_type": "markdown",
   "metadata": {},
   "source": [
    "The data for the general conference addresses can be found online at churchofjesuschrist.org. I started by looking at one particular url for a specific talk and read it in using the BeautifulSoup and requests library. I was able to use chrome Dev Tools to find the relevant id and class tags that I want to extract data from."
   ]
  },
  {
   "cell_type": "code",
   "execution_count": 2,
   "metadata": {},
   "outputs": [],
   "source": [
    "from bs4 import BeautifulSoup\n",
    "import requests"
   ]
  },
  {
   "cell_type": "code",
   "execution_count": 3,
   "metadata": {},
   "outputs": [],
   "source": [
    "page = requests.get(\"https://www.churchofjesuschrist.org/study/general-conference/2019/04/11soares?lang=eng\")\n",
    "soup = BeautifulSoup(page.content, 'html.parser')\n",
    "talk_text = soup.find(id=\"content\")\n",
    "talk_text_find = talk_text.find_all(class_=\"body-block\")\n",
    "address_body = talk_text_find[0]\n",
    "#print(address_body.prettify()) This will show a nice version of the text with the tags"
   ]
  },
  {
   "cell_type": "code",
   "execution_count": 6,
   "metadata": {},
   "outputs": [],
   "source": [
    "text1 = address_body.get_text()\n",
    "#print(text1) # This will print all of the text from this one general conference address "
   ]
  },
  {
   "cell_type": "markdown",
   "metadata": {},
   "source": [
    "Attempt to loop through all of the urls to read in all of the conference addresses all at once is found below. "
   ]
  },
  {
   "cell_type": "markdown",
   "metadata": {},
   "source": [
    "I spend some time trying to think of how I could loop through these urls to read in all the data at once. I am sure there is a better way to read in the data, but since this project is not about becoming a pro at scrapping data from a webpage I have just proceeded with the slower method of more lines of code to read each general conference address and then combine them all together. \n",
    "This may prove to be useful for other purposes as that some addresses are given on Saturday and some are given on Sunday and being able to differentiate the day of the address might be helpful when comparing to tweets from a certain day. "
   ]
  },
  {
   "cell_type": "code",
   "execution_count": null,
   "metadata": {},
   "outputs": [],
   "source": [
    "#This code below goes through a webpage and finds the href objects that have the end portion of the url for each of  \n",
    "# the separate addresses\n",
    "\n",
    "#href_page = requests.get(\"https://www.churchofjesuschrist.org/general-conference/2019/04?lang=eng\")\n",
    "#href_soup = BeautifulSoup(href_page.content, 'html.parser')\n",
    "#hrefs = href_soup.find(class_ = \"section-wrapper lumen-layout lumen-layout--landing-3\")\n",
    "#print(hrefs)\n",
    "\n",
    "# Need to scroll through this beautiful soup hrefs object to find all of the hrefs for each of the addresses. "
   ]
  },
  {
   "cell_type": "markdown",
   "metadata": {},
   "source": [
    "Find the href for each of the talks from the main overview sheet "
   ]
  },
  {
   "cell_type": "code",
   "execution_count": 7,
   "metadata": {},
   "outputs": [],
   "source": [
    "hrefs_list = [\n",
    "        [\"/general-conference/2019/04/11soares?lang=eng\"], [\"/general-conference/2019/04/12craven?lang=eng\"], \n",
    "        [\"/general-conference/2019/04/13hales?lang=eng\"], [\"/general-conference/2019/04/14uchtdorf?lang=eng\"], \n",
    "        [\"/general-conference/2019/04/15waddell?lang=eng\"], [\"/general-conference/2019/04/16eyring?lang=eng\"], \n",
    "        [\"/general-conference/2019/04/21oaks?lang=eng\"], [\"/general-conference/2019/04/22jergensen?lang=eng\"], \n",
    "        [\"/general-conference/2019/04/23ballard?lang=eng\"], [\"/general-conference/2019/04/24held?lang=eng\"], \n",
    "        [\"/general-conference/2019/04/25andersen?lang=eng\"], [\"/general-conference/2019/04/26wada?lang=eng\"], \n",
    "        [\"/general-conference/2019/04/27homer?lang=eng\"], [\"/general-conference/2019/04/28holland?lang=eng\"], \n",
    "        [\"/general-conference/2019/04/31stevenson?lang=eng\"], [\"/general-conference/2019/04/32cook?lang=eng\"], \n",
    "        [\"/general-conference/2019/04/33clark?lang=eng\"], [\"/general-conference/2019/04/34eyring?lang=eng\"], \n",
    "        [\"/general-conference/2019/04/35oaks?lang=eng\"], [\"/general-conference/2019/04/36nelson?lang=eng\"], \n",
    "        [\"/general-conference/2019/04/41renlund?lang=eng\"], [\"/general-conference/2019/04/42eubank?lang=eng\"], \n",
    "        [\"/general-conference/2019/04/43cook?lang=eng\"], [\"/general-conference/2019/04/44christofferson?lang=eng\"], \n",
    "        [\"/general-conference/2019/04/45callister?lang=eng\"], [\"/general-conference/2019/04/46nelson?lang=eng\"], \n",
    "        [\"/general-conference/2019/04/51oaks?lang=eng\"], [\"/general-conference/2019/04/52villar?lang=eng\"], \n",
    "        [\"/general-conference/2019/04/53gong?lang=eng\"], [\"/general-conference/2019/04/54bednar?lang=eng\"], \n",
    "        [\"/general-conference/2019/04/55mckay?lang=eng\"], [\"/general-conference/2019/04/56rasband?lang=eng\"], \n",
    "        [\"/general-conference/2019/04/57nelson?lang=eng\"]\n",
    "        ]"
   ]
  },
  {
   "cell_type": "markdown",
   "metadata": {},
   "source": [
    "So instead of some fancy loop I am left with just reading in the text from each url in a bit more of a manual process. The following code blocks are all identical - EXCEPT for the ending of the url (each references a different address) and then at the end of the code block it will save the text from that address to an object named text n with n being a number from 1 to 33."
   ]
  },
  {
   "cell_type": "code",
   "execution_count": 8,
   "metadata": {},
   "outputs": [],
   "source": [
    "page = requests.get(\"https://www.churchofjesuschrist.org/study/general-conference/2019/04/12craven?lang=eng\")\n",
    "soup = BeautifulSoup(page.content, 'html.parser')\n",
    "talk_text = soup.find(id=\"content\")\n",
    "talk_text_find = talk_text.find_all(class_=\"body-block\")\n",
    "address_body = talk_text_find[0]\n",
    "text2 = address_body.get_text()"
   ]
  },
  {
   "cell_type": "code",
   "execution_count": 9,
   "metadata": {},
   "outputs": [],
   "source": [
    "page = requests.get(\"https://www.churchofjesuschrist.org/study/general-conference/2019/04/13hales?lang=eng\")\n",
    "soup = BeautifulSoup(page.content, 'html.parser')\n",
    "talk_text = soup.find(id=\"content\")\n",
    "talk_text_find = talk_text.find_all(class_=\"body-block\")\n",
    "address_body = talk_text_find[0]\n",
    "text3 = address_body.get_text()"
   ]
  },
  {
   "cell_type": "code",
   "execution_count": 10,
   "metadata": {},
   "outputs": [],
   "source": [
    "page = requests.get(\"https://www.churchofjesuschrist.org/study/general-conference/2019/04/14uchtdorf?lang=eng\")\n",
    "soup = BeautifulSoup(page.content, 'html.parser')\n",
    "talk_text = soup.find(id=\"content\")\n",
    "talk_text_find = talk_text.find_all(class_=\"body-block\")\n",
    "address_body = talk_text_find[0]\n",
    "text4 = address_body.get_text()"
   ]
  },
  {
   "cell_type": "code",
   "execution_count": 11,
   "metadata": {},
   "outputs": [],
   "source": [
    "page = requests.get(\"https://www.churchofjesuschrist.org/study/general-conference/2019/04/15waddell?lang=eng\")\n",
    "soup = BeautifulSoup(page.content, 'html.parser')\n",
    "talk_text = soup.find(id=\"content\")\n",
    "talk_text_find = talk_text.find_all(class_=\"body-block\")\n",
    "address_body = talk_text_find[0]\n",
    "text5 = address_body.get_text()"
   ]
  },
  {
   "cell_type": "code",
   "execution_count": 12,
   "metadata": {},
   "outputs": [],
   "source": [
    "page = requests.get(\"https://www.churchofjesuschrist.org/study/general-conference/2019/04/16eyring?lang=eng\")\n",
    "soup = BeautifulSoup(page.content, 'html.parser')\n",
    "talk_text = soup.find(id=\"content\")\n",
    "talk_text_find = talk_text.find_all(class_=\"body-block\")\n",
    "address_body = talk_text_find[0]\n",
    "text6 = address_body.get_text()"
   ]
  },
  {
   "cell_type": "code",
   "execution_count": 13,
   "metadata": {},
   "outputs": [],
   "source": [
    "page = requests.get(\"https://www.churchofjesuschrist.org/study/general-conference/2019/04/21oaks?lang=eng\")\n",
    "soup = BeautifulSoup(page.content, 'html.parser')\n",
    "talk_text = soup.find(id=\"content\")\n",
    "talk_text_find = talk_text.find_all(class_=\"body-block\")\n",
    "address_body = talk_text_find[0]\n",
    "text7 = address_body.get_text()"
   ]
  },
  {
   "cell_type": "code",
   "execution_count": 14,
   "metadata": {},
   "outputs": [],
   "source": [
    "page = requests.get(\"https://www.churchofjesuschrist.org/study/general-conference/2019/04/22jergensen?lang=eng\")\n",
    "soup = BeautifulSoup(page.content, 'html.parser')\n",
    "talk_text = soup.find(id=\"content\")\n",
    "talk_text_find = talk_text.find_all(class_=\"body-block\")\n",
    "address_body = talk_text_find[0]\n",
    "text8 = address_body.get_text()"
   ]
  },
  {
   "cell_type": "code",
   "execution_count": 15,
   "metadata": {},
   "outputs": [],
   "source": [
    "page = requests.get(\"https://www.churchofjesuschrist.org/study/general-conference/2019/04/23ballard?lang=eng\")\n",
    "soup = BeautifulSoup(page.content, 'html.parser')\n",
    "talk_text = soup.find(id=\"content\")\n",
    "talk_text_find = talk_text.find_all(class_=\"body-block\")\n",
    "address_body = talk_text_find[0]\n",
    "text9 = address_body.get_text()"
   ]
  },
  {
   "cell_type": "code",
   "execution_count": 16,
   "metadata": {},
   "outputs": [],
   "source": [
    "page = requests.get(\"https://www.churchofjesuschrist.org/study/general-conference/2019/04/24held?lang=eng\")\n",
    "soup = BeautifulSoup(page.content, 'html.parser')\n",
    "talk_text = soup.find(id=\"content\")\n",
    "talk_text_find = talk_text.find_all(class_=\"body-block\")\n",
    "address_body = talk_text_find[0]\n",
    "text10 = address_body.get_text()"
   ]
  },
  {
   "cell_type": "code",
   "execution_count": 17,
   "metadata": {},
   "outputs": [],
   "source": [
    "page = requests.get(\"https://www.churchofjesuschrist.org/study/general-conference/2019/04/25andersen?lang=eng\")\n",
    "soup = BeautifulSoup(page.content, 'html.parser')\n",
    "talk_text = soup.find(id=\"content\")\n",
    "talk_text_find = talk_text.find_all(class_=\"body-block\")\n",
    "address_body = talk_text_find[0]\n",
    "text11 = address_body.get_text()"
   ]
  },
  {
   "cell_type": "code",
   "execution_count": 18,
   "metadata": {},
   "outputs": [],
   "source": [
    "page = requests.get(\"https://www.churchofjesuschrist.org/study/general-conference/2019/04/26wada?lang=eng\")\n",
    "soup = BeautifulSoup(page.content, 'html.parser')\n",
    "talk_text = soup.find(id=\"content\")\n",
    "talk_text_find = talk_text.find_all(class_=\"body-block\")\n",
    "address_body = talk_text_find[0]\n",
    "text12 = address_body.get_text()"
   ]
  },
  {
   "cell_type": "code",
   "execution_count": 19,
   "metadata": {},
   "outputs": [],
   "source": [
    "page = requests.get(\"https://www.churchofjesuschrist.org/study/general-conference/2019/04/27homer?lang=eng\")\n",
    "soup = BeautifulSoup(page.content, 'html.parser')\n",
    "talk_text = soup.find(id=\"content\")\n",
    "talk_text_find = talk_text.find_all(class_=\"body-block\")\n",
    "address_body = talk_text_find[0]\n",
    "text13 = address_body.get_text()"
   ]
  },
  {
   "cell_type": "code",
   "execution_count": 20,
   "metadata": {},
   "outputs": [],
   "source": [
    "page = requests.get(\"https://www.churchofjesuschrist.org/study/general-conference/2019/04/28holland?lang=eng\")\n",
    "soup = BeautifulSoup(page.content, 'html.parser')\n",
    "talk_text = soup.find(id=\"content\")\n",
    "talk_text_find = talk_text.find_all(class_=\"body-block\")\n",
    "address_body = talk_text_find[0]\n",
    "text14 = address_body.get_text()"
   ]
  },
  {
   "cell_type": "code",
   "execution_count": 21,
   "metadata": {},
   "outputs": [],
   "source": [
    "page = requests.get(\"https://www.churchofjesuschrist.org/study/general-conference/2019/04/31stevenson?lang=eng\")\n",
    "soup = BeautifulSoup(page.content, 'html.parser')\n",
    "talk_text = soup.find(id=\"content\")\n",
    "talk_text_find = talk_text.find_all(class_=\"body-block\")\n",
    "address_body = talk_text_find[0]\n",
    "text15 = address_body.get_text()"
   ]
  },
  {
   "cell_type": "code",
   "execution_count": 22,
   "metadata": {},
   "outputs": [],
   "source": [
    "page = requests.get(\"https://www.churchofjesuschrist.org/study/general-conference/2019/04/32cook?lang=eng\")\n",
    "soup = BeautifulSoup(page.content, 'html.parser')\n",
    "talk_text = soup.find(id=\"content\")\n",
    "talk_text_find = talk_text.find_all(class_=\"body-block\")\n",
    "address_body = talk_text_find[0]\n",
    "text16 = address_body.get_text()"
   ]
  },
  {
   "cell_type": "code",
   "execution_count": 23,
   "metadata": {},
   "outputs": [],
   "source": [
    "page = requests.get(\"https://www.churchofjesuschrist.org/study/general-conference/2019/04/33clark?lang=eng\")\n",
    "soup = BeautifulSoup(page.content, 'html.parser')\n",
    "talk_text = soup.find(id=\"content\")\n",
    "talk_text_find = talk_text.find_all(class_=\"body-block\")\n",
    "address_body = talk_text_find[0]\n",
    "text17 = address_body.get_text()"
   ]
  },
  {
   "cell_type": "code",
   "execution_count": 24,
   "metadata": {},
   "outputs": [],
   "source": [
    "page = requests.get(\"https://www.churchofjesuschrist.org/study/general-conference/2019/04/34eyring?lang=eng\")\n",
    "soup = BeautifulSoup(page.content, 'html.parser')\n",
    "talk_text = soup.find(id=\"content\")\n",
    "talk_text_find = talk_text.find_all(class_=\"body-block\")\n",
    "address_body = talk_text_find[0]\n",
    "text18 = address_body.get_text()"
   ]
  },
  {
   "cell_type": "code",
   "execution_count": 25,
   "metadata": {},
   "outputs": [],
   "source": [
    "page = requests.get(\"https://www.churchofjesuschrist.org/study/general-conference/2019/04/35oaks?lang=eng\")\n",
    "soup = BeautifulSoup(page.content, 'html.parser')\n",
    "talk_text = soup.find(id=\"content\")\n",
    "talk_text_find = talk_text.find_all(class_=\"body-block\")\n",
    "address_body = talk_text_find[0]\n",
    "text19 = address_body.get_text()"
   ]
  },
  {
   "cell_type": "code",
   "execution_count": 26,
   "metadata": {},
   "outputs": [],
   "source": [
    "page = requests.get(\"https://www.churchofjesuschrist.org/study/general-conference/2019/04/36nelson?lang=eng\")\n",
    "soup = BeautifulSoup(page.content, 'html.parser')\n",
    "talk_text = soup.find(id=\"content\")\n",
    "talk_text_find = talk_text.find_all(class_=\"body-block\")\n",
    "address_body = talk_text_find[0]\n",
    "text20 = address_body.get_text()"
   ]
  },
  {
   "cell_type": "code",
   "execution_count": 27,
   "metadata": {},
   "outputs": [],
   "source": [
    "page = requests.get(\"https://www.churchofjesuschrist.org/study/general-conference/2019/04/41renlund?lang=eng\")\n",
    "soup = BeautifulSoup(page.content, 'html.parser')\n",
    "talk_text = soup.find(id=\"content\")\n",
    "talk_text_find = talk_text.find_all(class_=\"body-block\")\n",
    "address_body = talk_text_find[0]\n",
    "text21 = address_body.get_text()"
   ]
  },
  {
   "cell_type": "code",
   "execution_count": 28,
   "metadata": {},
   "outputs": [],
   "source": [
    "page = requests.get(\"https://www.churchofjesuschrist.org/study/general-conference/2019/04/42eubank?lang=eng\")\n",
    "soup = BeautifulSoup(page.content, 'html.parser')\n",
    "talk_text = soup.find(id=\"content\")\n",
    "talk_text_find = talk_text.find_all(class_=\"body-block\")\n",
    "address_body = talk_text_find[0]\n",
    "text22 = address_body.get_text()"
   ]
  },
  {
   "cell_type": "code",
   "execution_count": 29,
   "metadata": {},
   "outputs": [],
   "source": [
    "page = requests.get(\"https://www.churchofjesuschrist.org/study/general-conference/2019/04/43cook?lang=eng\")\n",
    "soup = BeautifulSoup(page.content, 'html.parser')\n",
    "talk_text = soup.find(id=\"content\")\n",
    "talk_text_find = talk_text.find_all(class_=\"body-block\")\n",
    "address_body = talk_text_find[0]\n",
    "text23 = address_body.get_text()"
   ]
  },
  {
   "cell_type": "code",
   "execution_count": 30,
   "metadata": {},
   "outputs": [],
   "source": [
    "page = requests.get(\"https://www.churchofjesuschrist.org/study/general-conference/2019/04/44christofferson?lang=eng\")\n",
    "soup = BeautifulSoup(page.content, 'html.parser')\n",
    "talk_text = soup.find(id=\"content\")\n",
    "talk_text_find = talk_text.find_all(class_=\"body-block\")\n",
    "address_body = talk_text_find[0]\n",
    "text24 = address_body.get_text()"
   ]
  },
  {
   "cell_type": "code",
   "execution_count": 31,
   "metadata": {},
   "outputs": [],
   "source": [
    "page = requests.get(\"https://www.churchofjesuschrist.org/study/general-conference/2019/04/45callister?lang=eng\")\n",
    "soup = BeautifulSoup(page.content, 'html.parser')\n",
    "talk_text = soup.find(id=\"content\")\n",
    "talk_text_find = talk_text.find_all(class_=\"body-block\")\n",
    "address_body = talk_text_find[0]\n",
    "text25 = address_body.get_text()"
   ]
  },
  {
   "cell_type": "code",
   "execution_count": 32,
   "metadata": {},
   "outputs": [],
   "source": [
    "page = requests.get(\"https://www.churchofjesuschrist.org/study/general-conference/2019/04/46nelson?lang=eng\")\n",
    "soup = BeautifulSoup(page.content, 'html.parser')\n",
    "talk_text = soup.find(id=\"content\")\n",
    "talk_text_find = talk_text.find_all(class_=\"body-block\")\n",
    "address_body = talk_text_find[0]\n",
    "text26 = address_body.get_text()"
   ]
  },
  {
   "cell_type": "code",
   "execution_count": 33,
   "metadata": {},
   "outputs": [],
   "source": [
    "page = requests.get(\"https://www.churchofjesuschrist.org/study/general-conference/2019/04/51oaks?lang=eng\")\n",
    "soup = BeautifulSoup(page.content, 'html.parser')\n",
    "talk_text = soup.find(id=\"content\")\n",
    "talk_text_find = talk_text.find_all(class_=\"body-block\")\n",
    "address_body = talk_text_find[0]\n",
    "text27 = address_body.get_text()"
   ]
  },
  {
   "cell_type": "code",
   "execution_count": 34,
   "metadata": {},
   "outputs": [],
   "source": [
    "page = requests.get(\"https://www.churchofjesuschrist.org/study/general-conference/2019/04/52villar?lang=eng\")\n",
    "soup = BeautifulSoup(page.content, 'html.parser')\n",
    "talk_text = soup.find(id=\"content\")\n",
    "talk_text_find = talk_text.find_all(class_=\"body-block\")\n",
    "address_body = talk_text_find[0]\n",
    "text28 = address_body.get_text()"
   ]
  },
  {
   "cell_type": "code",
   "execution_count": 35,
   "metadata": {},
   "outputs": [],
   "source": [
    "page = requests.get(\"https://www.churchofjesuschrist.org/study/general-conference/2019/04/53gong?lang=eng\")\n",
    "soup = BeautifulSoup(page.content, 'html.parser')\n",
    "talk_text = soup.find(id=\"content\")\n",
    "talk_text_find = talk_text.find_all(class_=\"body-block\")\n",
    "address_body = talk_text_find[0]\n",
    "text29 = address_body.get_text()"
   ]
  },
  {
   "cell_type": "code",
   "execution_count": 36,
   "metadata": {},
   "outputs": [],
   "source": [
    "page = requests.get(\"https://www.churchofjesuschrist.org/study/general-conference/2019/04/54bednar?lang=eng\")\n",
    "soup = BeautifulSoup(page.content, 'html.parser')\n",
    "talk_text = soup.find(id=\"content\")\n",
    "talk_text_find = talk_text.find_all(class_=\"body-block\")\n",
    "address_body = talk_text_find[0]\n",
    "text30 = address_body.get_text()"
   ]
  },
  {
   "cell_type": "code",
   "execution_count": 37,
   "metadata": {},
   "outputs": [],
   "source": [
    "page = requests.get(\"https://www.churchofjesuschrist.org/study/general-conference/2019/04/55mckay?lang=eng\")\n",
    "soup = BeautifulSoup(page.content, 'html.parser')\n",
    "talk_text = soup.find(id=\"content\")\n",
    "talk_text_find = talk_text.find_all(class_=\"body-block\")\n",
    "address_body = talk_text_find[0]\n",
    "text31 = address_body.get_text()"
   ]
  },
  {
   "cell_type": "code",
   "execution_count": 38,
   "metadata": {},
   "outputs": [],
   "source": [
    "page = requests.get(\"https://www.churchofjesuschrist.org/study/general-conference/2019/04/56rasband?lang=eng\")\n",
    "soup = BeautifulSoup(page.content, 'html.parser')\n",
    "talk_text = soup.find(id=\"content\")\n",
    "talk_text_find = talk_text.find_all(class_=\"body-block\")\n",
    "address_body = talk_text_find[0]\n",
    "text32 = address_body.get_text()"
   ]
  },
  {
   "cell_type": "code",
   "execution_count": 39,
   "metadata": {},
   "outputs": [],
   "source": [
    "page = requests.get(\"https://www.churchofjesuschrist.org/study/general-conference/2019/04/57nelson?lang=eng\")\n",
    "soup = BeautifulSoup(page.content, 'html.parser')\n",
    "talk_text = soup.find(id=\"content\")\n",
    "talk_text_find = talk_text.find_all(class_=\"body-block\")\n",
    "address_body = talk_text_find[0]\n",
    "text33 = address_body.get_text()"
   ]
  },
  {
   "cell_type": "code",
   "execution_count": 40,
   "metadata": {},
   "outputs": [],
   "source": [
    "all_text = text1 + text2 + text3 + text4 + text5 + text6 + text7 + text8 + text9 + text10 + text11 + text12 + text13 + text14 + text15 + text16 + text17 + text18 + text19 + text20 + text21 + text22 + text23 + text24 + text25 + text26 + text27 + text28 + text29 + text30 + text31 + text32 + text33\n",
    "all_text = all_text.lower()\n",
    "all_text = all_text.replace(\".\", \" \")"
   ]
  },
  {
   "cell_type": "code",
   "execution_count": 41,
   "metadata": {},
   "outputs": [
    {
     "name": "stdout",
     "output_type": "stream",
     "text": [
      "my dear brothers and sisters, what a great joy it is to be here together again in this general conference for the church of jesus christ of latter-day saints under the direction of our beloved prophet, president russell m  nelson  i testify to you that we will have the privilege of hearing the voice of our savior, jesus christ, through the teachings of those who pray, sing, and speak to the needs of our day in this conference as recorded in the book of acts, philip the evangelist taught the gospel to a certain ethiopian who was a eunuch in charge of all the treasures belonging to the queen of ethiopia 1 while returning from worshipping in jerusalem, he read the book of isaiah  compelled by the spirit, philip came closer to him and said, “understandest thou what thou readest?“and [the eunuch] said, how can i, except some man should guide me? …“then philip opened his mouth, and began at the same scripture, and preached unto him jesus ”2the question asked by this ethiopian man is a remind\n"
     ]
    }
   ],
   "source": [
    "print(all_text[:1000]) # the first little bit of this string "
   ]
  },
  {
   "cell_type": "code",
   "execution_count": 42,
   "metadata": {},
   "outputs": [
    {
     "data": {
      "text/plain": [
       "str"
      ]
     },
     "execution_count": 42,
     "metadata": {},
     "output_type": "execute_result"
    }
   ],
   "source": [
    "type(all_text)"
   ]
  },
  {
   "cell_type": "markdown",
   "metadata": {},
   "source": [
    "## Data Cleansing for the General Conference Addresses"
   ]
  },
  {
   "cell_type": "code",
   "execution_count": 39,
   "metadata": {},
   "outputs": [
    {
     "name": "stderr",
     "output_type": "stream",
     "text": [
      "[nltk_data] Downloading package punkt to\n",
      "[nltk_data]     C:\\Users\\fbm2809\\AppData\\Roaming\\nltk_data...\n",
      "[nltk_data]   Package punkt is already up-to-date!\n"
     ]
    }
   ],
   "source": [
    "import nltk \n",
    "nltk.download(\"punkt\")\n",
    "gc_words = nltk.word_tokenize(all_text) #gc means general conference "
   ]
  },
  {
   "cell_type": "code",
   "execution_count": 40,
   "metadata": {},
   "outputs": [
    {
     "data": {
      "text/plain": [
       "list"
      ]
     },
     "execution_count": 40,
     "metadata": {},
     "output_type": "execute_result"
    }
   ],
   "source": [
    "type(gc_words)"
   ]
  },
  {
   "cell_type": "code",
   "execution_count": 41,
   "metadata": {},
   "outputs": [
    {
     "data": {
      "text/plain": [
       "61106"
      ]
     },
     "execution_count": 41,
     "metadata": {},
     "output_type": "execute_result"
    }
   ],
   "source": [
    "len(gc_words)"
   ]
  },
  {
   "cell_type": "code",
   "execution_count": 42,
   "metadata": {},
   "outputs": [
    {
     "name": "stderr",
     "output_type": "stream",
     "text": [
      "[nltk_data] Downloading package stopwords to\n",
      "[nltk_data]     C:\\Users\\fbm2809\\AppData\\Roaming\\nltk_data...\n",
      "[nltk_data]   Package stopwords is already up-to-date!\n"
     ]
    }
   ],
   "source": [
    "nltk.download(\"stopwords\")\n",
    "import string\n",
    "# For the useless_words I also noticed that the reading in of text was not as clean as expected. There a little footnotes to \n",
    "# reference scriptures or quotes throughout gc addresses so I also want to remove those numbers, so I made a list of numbers \n",
    "# from 0 to 1000, 1000 is probably a bit excessive but at least it is thorough \n",
    "number_list = [str(i) for i in range(1001)]\n",
    "#type(number_list)\n",
    "# custom_useless is a list of characters that were being found as words originally, after iterating through finding the top\n",
    "# number of words I've added to a custom_useless list to remove what I find as useless words or characters \n",
    "custom_useless = ['“','”','’','…' ]\n",
    "#type(custom_useless)\n",
    "useless_words = nltk.corpus.stopwords.words(\"english\") + list(string.punctuation) + list(number_list) + custom_useless"
   ]
  },
  {
   "cell_type": "code",
   "execution_count": 43,
   "metadata": {},
   "outputs": [],
   "source": [
    "filtered_words = [word for word in gc_words if not word in useless_words]"
   ]
  },
  {
   "cell_type": "code",
   "execution_count": 44,
   "metadata": {},
   "outputs": [
    {
     "data": {
      "text/plain": [
       "27261"
      ]
     },
     "execution_count": 44,
     "metadata": {},
     "output_type": "execute_result"
    }
   ],
   "source": [
    "len(filtered_words)"
   ]
  },
  {
   "cell_type": "code",
   "execution_count": 45,
   "metadata": {},
   "outputs": [],
   "source": [
    "from collections import Counter\n",
    "\n",
    "word_counter = Counter(filtered_words)\n",
    "most_common_words = word_counter.most_common()[:10]"
   ]
  },
  {
   "cell_type": "code",
   "execution_count": 46,
   "metadata": {},
   "outputs": [
    {
     "data": {
      "text/plain": [
       "[('us', 351),\n",
       " ('god', 319),\n",
       " ('christ', 314),\n",
       " ('jesus', 281),\n",
       " ('lord', 225),\n",
       " ('church', 171),\n",
       " ('love', 161),\n",
       " ('gospel', 141),\n",
       " ('savior', 136),\n",
       " ('one', 136)]"
      ]
     },
     "execution_count": 46,
     "metadata": {},
     "output_type": "execute_result"
    }
   ],
   "source": [
    "most_common_words"
   ]
  },
  {
   "cell_type": "markdown",
   "metadata": {},
   "source": [
    "# Visualize the text from the GC Addresses aka . . . make a cool word cloud"
   ]
  },
  {
   "cell_type": "code",
   "execution_count": null,
   "metadata": {},
   "outputs": [],
   "source": [
    "# pip install wordcloud #if you need to install wordcloud "
   ]
  },
  {
   "cell_type": "code",
   "execution_count": 47,
   "metadata": {},
   "outputs": [],
   "source": [
    "import numpy as np\n",
    "import pandas as pd\n",
    "from os import path\n",
    "from PIL import Image\n",
    "\n",
    "from wordcloud import WordCloud\n",
    "\n",
    "import matplotlib.pyplot as plt"
   ]
  },
  {
   "cell_type": "code",
   "execution_count": 48,
   "metadata": {},
   "outputs": [],
   "source": [
    "cloud_text = \" \".join(review for review in filtered_words)"
   ]
  },
  {
   "cell_type": "code",
   "execution_count": 49,
   "metadata": {},
   "outputs": [
    {
     "name": "stdout",
     "output_type": "stream",
     "text": [
      "There are 195954 words in the combination of all review.\n"
     ]
    }
   ],
   "source": [
    "print (\"There are {} words in the combination of all review.\".format(len(cloud_text)))"
   ]
  },
  {
   "cell_type": "code",
   "execution_count": 50,
   "metadata": {},
   "outputs": [],
   "source": [
    "wordcloud = WordCloud(background_color=\"white\", max_words=50, width=3200, height=1600).generate(cloud_text)"
   ]
  },
  {
   "cell_type": "code",
   "execution_count": 51,
   "metadata": {},
   "outputs": [
    {
     "data": {
      "image/png": "[encoded data removed]",
      "text/plain": [
       "<Figure size 432x288 with 1 Axes>"
      ]
     },
     "metadata": {
      "needs_background": "light"
     },
     "output_type": "display_data"
    }
   ],
   "source": [
    "plt.imshow(wordcloud, interpolation='bilinear', cmap=plt.get_cmap('twilight'))\n",
    "plt.axis(\"off\")\n",
    "plt.show()"
   ]
  },
  {
   "cell_type": "code",
   "execution_count": null,
   "metadata": {},
   "outputs": [],
   "source": [
    "# Save the word cloud image as a .png \n",
    "# wordcloud.to_file(\"Word_Cloud_April_2019_General_Conference.png\")"
   ]
  },
  {
   "cell_type": "markdown",
   "metadata": {},
   "source": [
    "# Data Gathering Part II, Tweets about the April 2019 General Conference"
   ]
  },
  {
   "cell_type": "code",
   "execution_count": 52,
   "metadata": {},
   "outputs": [],
   "source": [
    "import pickle\n",
    "import os\n",
    "import pandas as pd"
   ]
  },
  {
   "cell_type": "code",
   "execution_count": 54,
   "metadata": {},
   "outputs": [],
   "source": [
    "### All my secret stuff was here... get your own...\n",
    "Twitter=pickle.load(open('secret_twitter_credentials.pkl','rb'))"
   ]
  },
  {
   "cell_type": "code",
   "execution_count": 56,
   "metadata": {},
   "outputs": [],
   "source": [
    "import twitter\n",
    "\n",
    "auth = twitter.oauth.OAuth(Twitter['Access Token'],\n",
    "                           Twitter['Access Token Secret'],\n",
    "                           Twitter['Consumer Key'],\n",
    "                           Twitter['Consumer Secret'])\n",
    "\n",
    "twitter_api = twitter.Twitter(auth=auth)"
   ]
  },
  {
   "cell_type": "code",
   "execution_count": 57,
   "metadata": {},
   "outputs": [
    {
     "name": "stdout",
     "output_type": "stream",
     "text": [
      "<twitter.api.Twitter object at 0x0000018D1F2FFE48>\n"
     ]
    }
   ],
   "source": [
    "print(twitter_api)"
   ]
  },
  {
   "cell_type": "markdown",
   "metadata": {},
   "source": [
    "Since the tweets we want are actually from several months ago we will use Tweepy to find these tweets relevant to General Conference. Tweepy will allow us to go back and find tweets from a specific account for months ago, standard twitter api stuff will only let you fetch data up to 7 days ago, so I had to use tweepy. "
   ]
  },
  {
   "cell_type": "code",
   "execution_count": 61,
   "metadata": {},
   "outputs": [],
   "source": [
    "import tweepy\n",
    "import datetime"
   ]
  },
  {
   "cell_type": "code",
   "execution_count": 62,
   "metadata": {},
   "outputs": [],
   "source": [
    "consumerKey = Twitter['Consumer Key']\n",
    "consumerSecret = Twitter['Consumer Secret']\n",
    "accessToken = Twitter['Access Token']\n",
    "accessTokenSecret = Twitter['Access Token Secret']\n",
    "\n",
    "auth = tweepy.OAuthHandler(consumerKey, consumerSecret)\n",
    "auth.set_access_token(accessToken, accessTokenSecret)\n",
    "\n",
    "api = tweepy.API(auth)"
   ]
  },
  {
   "cell_type": "code",
   "execution_count": 63,
   "metadata": {},
   "outputs": [],
   "source": [
    "username = 'ChurchNewsroom'\n",
    "startDate = datetime.datetime(2019, 4, 6, 0, 0, 0)\n",
    "endDate =   datetime.datetime(2019, 4, 8, 0, 0, 0)\n"
   ]
  },
  {
   "cell_type": "code",
   "execution_count": 64,
   "metadata": {},
   "outputs": [],
   "source": [
    "tweets = []\n",
    "tmpTweets = api.user_timeline(username)\n",
    "for tweet in tmpTweets:\n",
    "    if tweet.created_at < endDate and tweet.created_at > startDate:\n",
    "        tweets.append(tweet)\n",
    "\n",
    "while (tmpTweets[-1].created_at > startDate):\n",
    "    tmpTweets = api.user_timeline(username, max_id = tmpTweets[-1].id)\n",
    "    for tweet in tmpTweets:\n",
    "        if tweet.created_at < endDate and tweet.created_at > startDate:\n",
    "            tweets.append(tweet)"
   ]
  },
  {
   "cell_type": "code",
   "execution_count": 65,
   "metadata": {},
   "outputs": [
    {
     "data": {
      "text/plain": [
       "31"
      ]
     },
     "execution_count": 65,
     "metadata": {},
     "output_type": "execute_result"
    }
   ],
   "source": [
    "len(tweets)"
   ]
  },
  {
   "cell_type": "code",
   "execution_count": 66,
   "metadata": {},
   "outputs": [
    {
     "name": "stdout",
     "output_type": "stream",
     "text": [
      "President @NelsonRussellM announced plans to build eight new temples: \n",
      "\n",
      "Pago Pago, American Samoa  \n",
      "Okinawa City, O… https://t.co/F6BchduGGy\n",
      "Plans for the renovation of the Salt Lake Temple, Temple Square, and the adjoining plaza near the Church Office Bui… https://t.co/e72kEbx0qk\n",
      "Your testimony of Jesus Christ is your personal fortress, the security for your soul. —@RonaldARasband #GeneralConference\n",
      "Our personal responsibility is to learn what we should learn, to live as we know we should live, and to become who… https://t.co/qWkTHbOwbx\n",
      "At this Easter season, we celebrate the Good Shepherd who is also the Lamb of God. … As our Good Shepherd, Jesus Ch… https://t.co/vi5Ug3OUqs\n",
      "Repentance begins with our Savior, and it is a joy, not a burden. \n",
      "—@OaksDallinH #GeneralConference\n",
      "The last session of the 189th Annual #GeneralConference begins now. Watch the live stream: https://t.co/Sc9CkHTuTR\n",
      "I plead with you who have distanced yourselves from the Church and with you who have not yet sought to know the Sav… https://t.co/rpaekI9xjz\n",
      "Put yourself in a position to begin having experiences with HIM. Humble yourself. ... Ask Him to tell you if He is… https://t.co/bNYmA4GMt3\n",
      "Let us do all we can to relieve suffering and sorrow now, and let us devote ourselves more diligently to the prepar… https://t.co/I7J8v6uPFe\n",
      "As we … make [Jesus Christ] the centerpiece of our efforts to gather Israel … the influence of the adversary will b… https://t.co/8oPQwNqMD1\n",
      "One of the fundamental needs we have in order to grow is to stay connected to the source of light—Jesus Christ. He… https://t.co/81oESsOXuf\n",
      "I invite you to faithfully activate heavenly power to receive specific blessings from God. Exercise the faith to st… https://t.co/xbz6tr4YRJ\n",
      "Join us for the Sunday sessions of #GeneralConference here at 10 a.m. MDT. “Music and the Spoken Word” begins at 9:… https://t.co/BFGroOfIBq\n",
      "We need to get up off the couch, put down the remote, and wake up from our spiritual slumber. It is time to put on… https://t.co/3qNTa13DUa\n",
      "If you have need to repent because of the way you have treated the women closest to you, begin now. —@NelsonRussellM #GeneralConference\n",
      "You will find some of your greatest joys in your efforts to make your home a place of faith in the Lord Jesus Chris… https://t.co/CMfVLXLZYQ\n",
      "As we grow in that pure love of Christ, our hearts soften. That love will humble us and lead us to repent. Our conf… https://t.co/1FVJwgFGqr\n",
      "As we grow in that pure love of Christ, our hearts soften. That love will humble us and lead us to repent. Our conf… https://t.co/1FVJwgFGqr\n",
      "As we see threats creeping up on persons or things we love, we have the choice of speaking or acting or remaining s… https://t.co/GfsZbHCESH\n",
      "You might be thinking that you are no one special, that you are not all-star material. But that is not true. Don’t… https://t.co/R6o9WPvpAB\n",
      "How many Latter-day Saints are there around the world? How many missionaries? How many congregations? Find out in t… https://t.co/nBstBfVdlb\n",
      "There is no shortage of suffering in this world. One way to “always remember him” would be to join the Great Physic… https://t.co/VlD08tslIN\n",
      "Some will say, “You don’t understand my situation.” I may not, but I testify there is One who does understand. Ther… https://t.co/FkjTQkEfai\n",
      "Do the best you can do day after day, and before you know it, you will come to realize that your Heavenly Father kn… https://t.co/Tjb4ypgyv1\n",
      "Ten new General Authorities and a new Sunday School General Presidency have been called. Read more about these 13 n… https://t.co/tiZdDUTzGU\n",
      "When we earnestly, heartily, firmly, and sincerely seek to learn the gospel of Jesus Christ … these teachings may t… https://t.co/SUBWfBoI3r\n",
      ".@UchtdorfDF’s 5 suggestions for sharing the message of Jesus Christ: \n",
      " \n",
      "1. Draw close to God. \n",
      "2. Fill your heart… https://t.co/jyhFUQ66MU\n",
      "Can happiness be bought with $15.00? No, it can’t. Deep and lasting happiness comes by intentionally and carefully… https://t.co/Ytx1JCUy3v\n",
      "#GeneralConference is now live. Join us here: https://t.co/wk7BgUBuUv\n",
      "The 189th Annual General Conference of The Church of Jesus Christ begins today at 10 a.m. MDT. Watch the Saturday s… https://t.co/T39pwGz3qS\n"
     ]
    }
   ],
   "source": [
    "for tweet in tweets:\n",
    "    print(tweet.text)"
   ]
  },
  {
   "cell_type": "code",
   "execution_count": 67,
   "metadata": {},
   "outputs": [],
   "source": [
    "tweet_text = [tweet.text for tweet in tweets]"
   ]
  },
  {
   "cell_type": "code",
   "execution_count": 68,
   "metadata": {},
   "outputs": [
    {
     "data": {
      "text/plain": [
       "list"
      ]
     },
     "execution_count": 68,
     "metadata": {},
     "output_type": "execute_result"
    }
   ],
   "source": [
    "type(tweet_text)"
   ]
  },
  {
   "cell_type": "code",
   "execution_count": 69,
   "metadata": {},
   "outputs": [
    {
     "data": {
      "text/plain": [
       "31"
      ]
     },
     "execution_count": 69,
     "metadata": {},
     "output_type": "execute_result"
    }
   ],
   "source": [
    "len(tweet_text)"
   ]
  },
  {
   "cell_type": "code",
   "execution_count": 70,
   "metadata": {},
   "outputs": [
    {
     "data": {
      "text/plain": [
       "['President @NelsonRussellM announced plans to build eight new temples: \\n\\nPago Pago, American Samoa  \\nOkinawa City, O… https://t.co/F6BchduGGy',\n",
       " 'Plans for the renovation of the Salt Lake Temple, Temple Square, and the adjoining plaza near the Church Office Bui… https://t.co/e72kEbx0qk',\n",
       " 'Your testimony of Jesus Christ is your personal fortress, the security for your soul. —@RonaldARasband #GeneralConference',\n",
       " 'Our personal responsibility is to learn what we should learn, to live as we know we should live, and to become who… https://t.co/qWkTHbOwbx',\n",
       " 'At this Easter season, we celebrate the Good Shepherd who is also the Lamb of God. … As our Good Shepherd, Jesus Ch… https://t.co/vi5Ug3OUqs',\n",
       " 'Repentance begins with our Savior, and it is a joy, not a burden. \\n—@OaksDallinH #GeneralConference',\n",
       " 'The last session of the 189th Annual #GeneralConference begins now. Watch the live stream: https://t.co/Sc9CkHTuTR',\n",
       " 'I plead with you who have distanced yourselves from the Church and with you who have not yet sought to know the Sav… https://t.co/rpaekI9xjz',\n",
       " 'Put yourself in a position to begin having experiences with HIM. Humble yourself. ... Ask Him to tell you if He is… https://t.co/bNYmA4GMt3',\n",
       " 'Let us do all we can to relieve suffering and sorrow now, and let us devote ourselves more diligently to the prepar… https://t.co/I7J8v6uPFe',\n",
       " 'As we … make [Jesus Christ] the centerpiece of our efforts to gather Israel … the influence of the adversary will b… https://t.co/8oPQwNqMD1',\n",
       " 'One of the fundamental needs we have in order to grow is to stay connected to the source of light—Jesus Christ. He… https://t.co/81oESsOXuf',\n",
       " 'I invite you to faithfully activate heavenly power to receive specific blessings from God. Exercise the faith to st… https://t.co/xbz6tr4YRJ',\n",
       " 'Join us for the Sunday sessions of #GeneralConference here at 10 a.m. MDT. “Music and the Spoken Word” begins at 9:… https://t.co/BFGroOfIBq',\n",
       " 'We need to get up off the couch, put down the remote, and\\u202fwake\\u202fup\\u202ffrom our\\u202fspiritual slumber.\\u202fIt is time to put on… https://t.co/3qNTa13DUa',\n",
       " 'If you have need to repent because of the way you have treated\\u202fthe\\u202fwomen closest to you, begin now. —@NelsonRussellM #GeneralConference',\n",
       " 'You will find some of your greatest joys in your efforts to make your home a place of faith in the Lord Jesus Chris… https://t.co/CMfVLXLZYQ',\n",
       " 'As we grow in that pure love of Christ, our hearts soften. That love will humble us and lead us to repent. Our conf… https://t.co/1FVJwgFGqr',\n",
       " 'As we grow in that pure love of Christ, our hearts soften. That love will humble us and lead us to repent. Our conf… https://t.co/1FVJwgFGqr',\n",
       " 'As we\\u202fsee threats creeping up on\\u202fpersons or things we love, we have the choice of speaking or\\u202facting or\\u202fremaining s… https://t.co/GfsZbHCESH',\n",
       " 'You might be thinking that you are no one special, that you are not all-star material. But that is not true. Don’t… https://t.co/R6o9WPvpAB',\n",
       " 'How many Latter-day Saints are there around the world? How many missionaries? How many congregations? Find out in t… https://t.co/nBstBfVdlb',\n",
       " 'There is no shortage of suffering in this world. One way to “always remember him” would be to join the Great Physic… https://t.co/VlD08tslIN',\n",
       " 'Some will say, “You don’t understand my situation.” I may not, but I testify there is One who does understand. Ther… https://t.co/FkjTQkEfai',\n",
       " 'Do the best you can do day after day, and before you know it, you will come to realize that your Heavenly Father kn… https://t.co/Tjb4ypgyv1',\n",
       " 'Ten new General Authorities and a new Sunday School General Presidency have been called. Read more about these 13 n… https://t.co/tiZdDUTzGU',\n",
       " 'When we earnestly, heartily, firmly, and sincerely seek to learn the gospel of Jesus Christ … these teachings may t… https://t.co/SUBWfBoI3r',\n",
       " '.@UchtdorfDF’s 5 suggestions for sharing the message of Jesus Christ: \\n \\n1. Draw close to God. \\n2. Fill your heart… https://t.co/jyhFUQ66MU',\n",
       " 'Can happiness be bought with $15.00? No, it can’t. Deep and lasting happiness comes by intentionally and carefully… https://t.co/Ytx1JCUy3v',\n",
       " '#GeneralConference is now live. Join us here: https://t.co/wk7BgUBuUv',\n",
       " 'The 189th Annual General Conference of The Church of Jesus Christ begins today at 10 a.m. MDT. Watch the Saturday s… https://t.co/T39pwGz3qS']"
      ]
     },
     "execution_count": 70,
     "metadata": {},
     "output_type": "execute_result"
    }
   ],
   "source": [
    "tweet_text # we see that there are some duplicates in our list"
   ]
  },
  {
   "cell_type": "code",
   "execution_count": 71,
   "metadata": {},
   "outputs": [],
   "source": [
    "# Function to remove duplicates from a list  \n",
    "def Remove(duplicate): \n",
    "    final_list = [] \n",
    "    for num in duplicate: \n",
    "        if num not in final_list: \n",
    "            final_list.append(num) \n",
    "    return final_list "
   ]
  },
  {
   "cell_type": "code",
   "execution_count": 72,
   "metadata": {},
   "outputs": [],
   "source": [
    "tweet_text = Remove(tweet_text)"
   ]
  },
  {
   "cell_type": "code",
   "execution_count": 73,
   "metadata": {},
   "outputs": [
    {
     "data": {
      "text/plain": [
       "30"
      ]
     },
     "execution_count": 73,
     "metadata": {},
     "output_type": "execute_result"
    }
   ],
   "source": [
    "len(tweet_text) # Removed two duplicate tweets"
   ]
  },
  {
   "cell_type": "markdown",
   "metadata": {},
   "source": [
    "## Data Cleansing of the Tweets"
   ]
  },
  {
   "cell_type": "markdown",
   "metadata": {},
   "source": [
    "Use the same process as before of cleansing the general conference addresses. "
   ]
  },
  {
   "cell_type": "code",
   "execution_count": 74,
   "metadata": {},
   "outputs": [],
   "source": [
    "tweet_text_string = ' '.join(tweet_text)"
   ]
  },
  {
   "cell_type": "code",
   "execution_count": 75,
   "metadata": {},
   "outputs": [],
   "source": [
    "#type(tweet_text_string)\n",
    "tweet_text_string = tweet_text_string.lower()\n",
    "tweet_text_string = tweet_text_string.replace(\".\", \" \")"
   ]
  },
  {
   "cell_type": "code",
   "execution_count": 76,
   "metadata": {},
   "outputs": [],
   "source": [
    "gc_tweets = nltk.word_tokenize(tweet_text_string)"
   ]
  },
  {
   "cell_type": "code",
   "execution_count": 77,
   "metadata": {},
   "outputs": [],
   "source": [
    "custom_useless_tweets = ['“','”','’','…', 'https','-' , 't…','s…', '//t','—']"
   ]
  },
  {
   "cell_type": "code",
   "execution_count": 78,
   "metadata": {},
   "outputs": [],
   "source": [
    "useless_tweet_words = nltk.corpus.stopwords.words(\"english\") + list(string.punctuation)  + custom_useless_tweets"
   ]
  },
  {
   "cell_type": "code",
   "execution_count": 79,
   "metadata": {},
   "outputs": [],
   "source": [
    "filtered_tweets = [word for word in gc_tweets if not word in useless_tweet_words]"
   ]
  },
  {
   "cell_type": "code",
   "execution_count": 80,
   "metadata": {},
   "outputs": [
    {
     "data": {
      "text/plain": [
       "335"
      ]
     },
     "execution_count": 80,
     "metadata": {},
     "output_type": "execute_result"
    }
   ],
   "source": [
    "len(filtered_tweets)"
   ]
  },
  {
   "cell_type": "code",
   "execution_count": null,
   "metadata": {},
   "outputs": [],
   "source": [
    "#filtered_tweets"
   ]
  },
  {
   "cell_type": "code",
   "execution_count": 81,
   "metadata": {},
   "outputs": [],
   "source": [
    "tweet_counter = Counter(filtered_tweets)\n",
    "most_common_tweets = tweet_counter.most_common()[:50]"
   ]
  },
  {
   "cell_type": "code",
   "execution_count": 82,
   "metadata": {},
   "outputs": [
    {
     "data": {
      "text/plain": [
       "list"
      ]
     },
     "execution_count": 82,
     "metadata": {},
     "output_type": "execute_result"
    }
   ],
   "source": [
    "type(most_common_tweets)"
   ]
  },
  {
   "cell_type": "code",
   "execution_count": 83,
   "metadata": {},
   "outputs": [
    {
     "data": {
      "text/plain": [
       "[('jesus', 7),\n",
       " ('christ', 7),\n",
       " ('generalconference', 6),\n",
       " ('us', 6),\n",
       " ('live', 4),\n",
       " ('begins', 4),\n",
       " ('one', 4),\n",
       " ('new', 3),\n",
       " ('church', 3),\n",
       " ('learn', 3),\n",
       " ('know', 3),\n",
       " ('god', 3),\n",
       " ('put', 3),\n",
       " ('join', 3),\n",
       " ('love', 3),\n",
       " ('many', 3),\n",
       " ('general', 3),\n",
       " ('nelsonrussellm', 2),\n",
       " ('plans', 2),\n",
       " ('pago', 2),\n",
       " ('temple', 2),\n",
       " ('personal', 2),\n",
       " ('good', 2),\n",
       " ('shepherd', 2),\n",
       " ('189th', 2),\n",
       " ('annual', 2),\n",
       " ('watch', 2),\n",
       " ('begin', 2),\n",
       " ('humble', 2),\n",
       " ('let', 2),\n",
       " ('suffering', 2),\n",
       " ('make', 2),\n",
       " ('efforts', 2),\n",
       " ('grow', 2),\n",
       " ('heavenly', 2),\n",
       " ('faith', 2),\n",
       " ('sunday', 2),\n",
       " ('10', 2),\n",
       " ('mdt', 2),\n",
       " ('need', 2),\n",
       " ('repent', 2),\n",
       " ('way', 2),\n",
       " ('find', 2),\n",
       " ('world', 2),\n",
       " ('understand', 2),\n",
       " ('may', 2),\n",
       " ('day', 2),\n",
       " ('happiness', 2),\n",
       " ('president', 1),\n",
       " ('announced', 1)]"
      ]
     },
     "execution_count": 83,
     "metadata": {},
     "output_type": "execute_result"
    }
   ],
   "source": [
    "most_common_tweets"
   ]
  },
  {
   "cell_type": "markdown",
   "metadata": {},
   "source": [
    "# Visualize the text from the TWEETS aka . . . make a cool word cloud"
   ]
  },
  {
   "cell_type": "code",
   "execution_count": 84,
   "metadata": {},
   "outputs": [],
   "source": [
    "cloud_tweets = \" \".join(review for review in filtered_tweets)"
   ]
  },
  {
   "cell_type": "code",
   "execution_count": 85,
   "metadata": {},
   "outputs": [
    {
     "name": "stdout",
     "output_type": "stream",
     "text": [
      "There are 2521 words in the combination of all review.\n"
     ]
    }
   ],
   "source": [
    "print (\"There are {} words in the combination of all review.\".format(len(cloud_tweets)))"
   ]
  },
  {
   "cell_type": "code",
   "execution_count": 86,
   "metadata": {},
   "outputs": [],
   "source": [
    "tweetcloud = WordCloud(background_color=\"white\", max_words=25, width=3200, height=1600).generate(cloud_tweets)"
   ]
  },
  {
   "cell_type": "code",
   "execution_count": 87,
   "metadata": {},
   "outputs": [
    {
     "data": {
      "image/png": "[encoded data removed]",
      "text/plain": [
       "<Figure size 432x288 with 1 Axes>"
      ]
     },
     "metadata": {
      "needs_background": "light"
     },
     "output_type": "display_data"
    }
   ],
   "source": [
    "plt.imshow(tweetcloud, interpolation='bilinear', cmap=plt.get_cmap('twilight'))\n",
    "plt.axis(\"off\")\n",
    "plt.show()"
   ]
  },
  {
   "cell_type": "code",
   "execution_count": null,
   "metadata": {},
   "outputs": [],
   "source": [
    "# save to an image\n",
    "#tweetcloud.to_file(\"Word_Cloud_April_2019_ChurchNewsroom_Tweets.png\")"
   ]
  }
 ],
 "metadata": {
  "kernelspec": {
   "display_name": "Python 3",
   "language": "python",
   "name": "python3"
  },
  "language_info": {
   "codemirror_mode": {
    "name": "ipython",
    "version": 3
   },
   "file_extension": ".py",
   "mimetype": "text/x-python",
   "name": "python",
   "nbconvert_exporter": "python",
   "pygments_lexer": "ipython3",
   "version": "3.8.3"
  }
 },
 "nbformat": 4,
 "nbformat_minor": 2
}
